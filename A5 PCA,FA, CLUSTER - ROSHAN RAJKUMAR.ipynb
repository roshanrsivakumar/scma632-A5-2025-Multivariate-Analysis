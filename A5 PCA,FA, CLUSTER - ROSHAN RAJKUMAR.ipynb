{
 "cells": [
  {
   "cell_type": "code",
   "id": "initial_id",
   "metadata": {
    "collapsed": true
   },
   "source": [
    "import pandas as pd\n",
    "import numpy as np\n",
    "from sklearn.decomposition import PCA, FactorAnalysis\n",
    "from sklearn.preprocessing import StandardScaler\n",
    "from sklearn.cluster import KMeans\n",
    "from scipy.cluster.hierarchy import dendrogram, linkage\n",
    "import matplotlib.pyplot as plt\n",
    "from factor_analyzer import FactorAnalyzer\n",
    "from factor_analyzer.factor_analyzer import calculate_kmo"
   ],
   "outputs": [],
   "execution_count": null
  },
  {
   "metadata": {},
   "cell_type": "code",
   "source": [
    "survey_df = pd.read_csv('Survey.csv')\n",
    "sur_int = survey_df.iloc[:, 19:46]"
   ],
   "id": "35ffad64b4bef2e0",
   "outputs": [],
   "execution_count": null
  },
  {
   "metadata": {},
   "cell_type": "code",
   "source": [
    "scaler = StandardScaler()\n",
    "sur_int_std = scaler.fit_transform(sur_int)"
   ],
   "id": "584106bc235a7701",
   "outputs": [],
   "execution_count": null
  },
  {
   "metadata": {},
   "cell_type": "code",
   "source": [
    "numeric_cols = survey_df.select_dtypes(include=[np.number]).columns\n",
    "sur_int = survey_df[numeric_cols]"
   ],
   "id": "2512bd89d54b043",
   "outputs": [],
   "execution_count": null
  },
  {
   "metadata": {},
   "cell_type": "code",
   "source": [
    "scaler = StandardScaler()\n",
    "sur_int_std = scaler.fit_transform(sur_int)"
   ],
   "id": "d01f00be646fe1ff",
   "outputs": [],
   "execution_count": null
  },
  {
   "metadata": {},
   "cell_type": "markdown",
   "source": "PRINCIPAL COMPONENT ANALYSIS",
   "id": "945398cd7b6dfc5a"
  },
  {
   "metadata": {},
   "cell_type": "code",
   "source": [
    "pca = PCA()\n",
    "pca_result = pca.fit_transform(sur_int_std)\n",
    "\n",
    "plt.figure(figsize=(10, 6))\n",
    "plt.plot(range(1, len(pca.explained_variance_ratio_) + 1), pca.explained_variance_ratio_, marker='o')\n",
    "plt.xlabel('Principal Component')\n",
    "plt.ylabel('Variance Explained')\n",
    "plt.title('Scree Plot')\n",
    "plt.show()"
   ],
   "id": "65010b0077eb3496",
   "outputs": [],
   "execution_count": null
  },
  {
   "metadata": {},
   "cell_type": "code",
   "source": [
    "kmo_all, kmo_model = calculate_kmo(sur_int)\n",
    "print(f\"KMO Measure: {kmo_model:.3f}\")"
   ],
   "id": "981ebde23499761d",
   "outputs": [],
   "execution_count": null
  },
  {
   "metadata": {},
   "cell_type": "code",
   "source": [
    "fa = FactorAnalyzer(n_factors=4, rotation='varimax')\n",
    "fa.fit(sur_int_std)\n",
    "\n",
    "loadings = pd.DataFrame(fa.loadings_, index=sur_int.columns,\n",
    "                       columns=['Factor1', 'Factor2', 'Factor3', 'Factor4'])\n",
    "print(\"\\nFactor Loadings:\")\n",
    "print(loadings)\n",
    "\n",
    "communalities = pd.DataFrame(fa.get_communalities(), index=sur_int.columns,\n",
    "                           columns=['Communalities'])\n",
    "print(\"\\nCommunalities:\")\n",
    "print(communalities)"
   ],
   "id": "b6a480ee46763626",
   "outputs": [],
   "execution_count": null
  },
  {
   "metadata": {},
   "cell_type": "markdown",
   "source": "CLUSTER ANALYSIS",
   "id": "7a1e0c89d9b4ed92"
  },
  {
   "metadata": {},
   "cell_type": "code",
   "source": [
    "wcss = []\n",
    "for i in range(1, 11):\n",
    "    kmeans = KMeans(n_clusters=i, init='k-means++', random_state=123)\n",
    "    kmeans.fit(sur_int_std)\n",
    "    wcss.append(kmeans.inertia_)\n",
    "\n",
    "plt.figure(figsize=(10, 6))\n",
    "plt.plot(range(1, 11), wcss, marker='o')\n",
    "plt.xlabel('Number of clusters')\n",
    "plt.ylabel('WCSS')\n",
    "plt.title('Elbow Method')\n",
    "plt.show()\n",
    "\n",
    "# K-means clustering with 4 clusters\n",
    "kmeans = KMeans(n_clusters=4, init='k-means++', random_state=123)\n",
    "survey_df['cluster'] = kmeans.fit_predict(sur_int_std)\n",
    "\n",
    "# Hierarchical clustering\n",
    "plt.figure(figsize=(12, 7))\n",
    "dendrogram(linkage(sur_int_std, method='ward'),\n",
    "           truncate_mode='lastp', p=12)\n",
    "plt.title('Hierarchical Clustering Dendrogram')\n",
    "plt.xlabel('Sample index')\n",
    "plt.ylabel('Distance')\n",
    "plt.show()\n",
    "\n",
    "# Cluster interpretation - mean values for each cluster\n",
    "cluster_means = survey_df.groupby('cluster')[numeric_cols].mean()\n",
    "print(\"\\nCluster Profiles (Mean Values):\")\n",
    "print(cluster_means)\n",
    "\n",
    "# Count of respondents in each cluster\n",
    "print(\"\\nNumber of respondents per cluster:\")\n",
    "print(survey_df['cluster'].value_counts().sort_index())"
   ],
   "id": "aabdc1a9090bfe06",
   "outputs": [],
   "execution_count": null
  }
 ],
 "metadata": {
  "kernelspec": {
   "display_name": "Python 3",
   "language": "python",
   "name": "python3"
  },
  "language_info": {
   "codemirror_mode": {
    "name": "ipython",
    "version": 2
   },
   "file_extension": ".py",
   "mimetype": "text/x-python",
   "name": "python",
   "nbconvert_exporter": "python",
   "pygments_lexer": "ipython2",
   "version": "2.7.6"
  }
 },
 "nbformat": 4,
 "nbformat_minor": 5
}
