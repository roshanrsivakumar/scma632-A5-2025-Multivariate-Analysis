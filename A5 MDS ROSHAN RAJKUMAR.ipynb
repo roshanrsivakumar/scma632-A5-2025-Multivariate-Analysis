{
 "cells": [
  {
   "cell_type": "code",
   "id": "initial_id",
   "metadata": {
    "collapsed": true
   },
   "source": [
    "import pandas as pd\n",
    "import numpy as np\n",
    "from sklearn.manifold import MDS\n",
    "from sklearn.preprocessing import StandardScaler\n",
    "import matplotlib.pyplot as plt"
   ],
   "outputs": [],
   "execution_count": null
  },
  {
   "metadata": {},
   "cell_type": "code",
   "source": "data = pd.read_csv('icecream.csv')",
   "id": "5ac24abaa84715",
   "outputs": [],
   "execution_count": null
  },
  {
   "metadata": {},
   "cell_type": "code",
   "source": [
    "brands = data['Brand']\n",
    "features = data.drop('Brand', axis=1)"
   ],
   "id": "9a433f9468e2c292",
   "outputs": [],
   "execution_count": null
  },
  {
   "metadata": {},
   "cell_type": "code",
   "source": [
    "scaler = StandardScaler()\n",
    "features_scaled = scaler.fit_transform(features)"
   ],
   "id": "887ab0a046cabeb4",
   "outputs": [],
   "execution_count": null
  },
  {
   "metadata": {},
   "cell_type": "code",
   "source": [
    "mds = MDS(n_components=2, random_state=42, dissimilarity='euclidean')\n",
    "mds_result = mds.fit_transform(features_scaled)"
   ],
   "id": "ad06521c4eb81198",
   "outputs": [],
   "execution_count": null
  },
  {
   "metadata": {},
   "cell_type": "code",
   "source": [
    "plt.figure(figsize=(12, 8))\n",
    "scatter = plt.scatter(mds_result[:, 0], mds_result[:, 1], c='blue', s=100, alpha=0.6)\n",
    "\n",
    "# Add labels with adjusted positions to prevent overlap\n",
    "for i, brand in enumerate(brands):\n",
    "    # Calculate offset direction based on point position\n",
    "    x_offset = 0.05 if mds_result[i, 0] >= np.median(mds_result[:, 0]) else -0.05\n",
    "    y_offset = 0.05 if mds_result[i, 1] >= np.median(mds_result[:, 1]) else -0.05\n",
    "\n",
    "    plt.text(mds_result[i, 0] + x_offset,\n",
    "             mds_result[i, 1] + y_offset,\n",
    "             brand,\n",
    "             fontsize=10,\n",
    "             ha='center',\n",
    "             va='center',\n",
    "             bbox=dict(facecolor='white', alpha=0.8, edgecolor='gray', boxstyle='round,pad=0.3'))\n",
    "\n",
    "# Add grid and labels\n",
    "plt.grid(True, linestyle='--', alpha=0.6)\n",
    "plt.xlabel('Dimension 1', fontsize=12)\n",
    "plt.ylabel('Dimension 2', fontsize=12)\n",
    "plt.title('MDS Plot of Ice Cream Brands', fontsize=14)"
   ],
   "id": "d54b8e47b3b082f8",
   "outputs": [],
   "execution_count": null
  },
  {
   "metadata": {},
   "cell_type": "code",
   "source": [
    "plt.tight_layout()\n",
    "plt.show()"
   ],
   "id": "eb22e48f7bcb2351",
   "outputs": [],
   "execution_count": null
  }
 ],
 "metadata": {
  "kernelspec": {
   "display_name": "Python 3",
   "language": "python",
   "name": "python3"
  },
  "language_info": {
   "codemirror_mode": {
    "name": "ipython",
    "version": 2
   },
   "file_extension": ".py",
   "mimetype": "text/x-python",
   "name": "python",
   "nbconvert_exporter": "python",
   "pygments_lexer": "ipython2",
   "version": "2.7.6"
  }
 },
 "nbformat": 4,
 "nbformat_minor": 5
}
